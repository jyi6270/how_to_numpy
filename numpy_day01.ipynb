{
 "cells": [
  {
   "cell_type": "markdown",
   "id": "ff5aee81",
   "metadata": {},
   "source": [
    "#### Numpy 학습 목표\n",
    "\n",
    "- 배열 데이터 타입(인공지능에서 사용되는 데이터의 타입)\n",
    "- 생성방법, 다루는 방법\n",
    "- 통계에 관련된 다양한 함수를 지원\n",
    "\n",
    "#### 배열(벡터화 연산, 행렬의 벡터화 연산)\n",
    "- 리스트와 차이가 있다(배열의 모든 원소는 같은 자료형)\n",
    "- 원소의 개수를 바꿀 수 없다(resizing X)\n",
    "- 배열의 차원, 크기, 타입(ndim, shape, dtype)"
   ]
  },
  {
   "cell_type": "code",
   "execution_count": 1,
   "id": "5a970451",
   "metadata": {},
   "outputs": [],
   "source": [
    "import numpy as np\n",
    "import pandas as pd"
   ]
  },
  {
   "cell_type": "code",
   "execution_count": 3,
   "id": "e6ae317e",
   "metadata": {},
   "outputs": [],
   "source": [
    "# 배열의 정보를 확인하기 위한 함수 정의\n",
    "\n",
    "def aryInfo(ary):\n",
    "    print('type - ', type(ary))\n",
    "    print('shape - ', ary.shape)\n",
    "    print('dimension - ', ary.ndim)\n",
    "    print('dtype - ', ary.dtype)\n",
    "    print()\n",
    "    print('data - ')\n",
    "    print(ary)"
   ]
  },
  {
   "cell_type": "markdown",
   "id": "d2840e0b",
   "metadata": {},
   "source": [
    "- 배열 객체를 생성할 때 사용하는 함수: array(), arrange(), reshape()"
   ]
  },
  {
   "cell_type": "code",
   "execution_count": 4,
   "id": "6b8e6b45",
   "metadata": {},
   "outputs": [
    {
     "name": "stdout",
     "output_type": "stream",
     "text": [
      "type -  <class 'numpy.ndarray'>\n",
      "shape -  (9,)\n",
      "dimension -  1\n",
      "dtype -  int32\n",
      "\n",
      "data - \n",
      "[1 2 3 4 5 6 7 8 9]\n"
     ]
    }
   ],
   "source": [
    "np.array([1,2,3,4,5,6,7,8,9])   # array함수에 리스트를 넣으면 배열이 됨\n",
    "ary = np.array([1,2,3,4,5,6,7,8,9])\n",
    "aryInfo(ary)"
   ]
  },
  {
   "cell_type": "markdown",
   "id": "42ae2d55",
   "metadata": {},
   "source": [
    "- 벡터화 연산(vectorized operation)"
   ]
  },
  {
   "cell_type": "code",
   "execution_count": 5,
   "id": "94638ef6",
   "metadata": {},
   "outputs": [
    {
     "name": "stdout",
     "output_type": "stream",
     "text": [
      "type -  <class 'list'>\n",
      "\n",
      "[1, 2, 3, 4, 5, 6, 7, 8, 9, 1, 2, 3, 4, 5, 6, 7, 8, 9]\n",
      "\n",
      "[2, 4, 6, 8, 10, 12, 14, 16, 18]\n",
      "\n",
      "[2, 4, 6, 8, 10, 12, 14, 16, 18]\n",
      "\n",
      "[ 2  4  6  8 10 12 14 16 18]\n"
     ]
    }
   ],
   "source": [
    "data = [1,2,3,4,5,6,7,8,9]\n",
    "print('type - ', type(data))\n",
    "print()\n",
    "print(data*2)\n",
    "print()\n",
    "\n",
    "result=[]\n",
    "for value in data :\n",
    "    result.append(value*2)\n",
    "print(result)\n",
    "print()\n",
    "\n",
    "result = [value*2 for value in data]\n",
    "print(result)\n",
    "print()\n",
    "\n",
    "print(ary*2)"
   ]
  },
  {
   "cell_type": "markdown",
   "id": "4784903e",
   "metadata": {},
   "source": [
    "- 산술, 비교, 논리"
   ]
  },
  {
   "cell_type": "code",
   "execution_count": 6,
   "id": "f746a063",
   "metadata": {},
   "outputs": [
    {
     "name": "stdout",
     "output_type": "stream",
     "text": [
      "type -  <class 'numpy.ndarray'> <class 'numpy.ndarray'>\n"
     ]
    }
   ],
   "source": [
    "ary01 = np.array([1,2,3,4,5])\n",
    "ary02 = np.array([10,20,30,40,50])\n",
    "print('type - ', type(ary01), type(ary02))"
   ]
  },
  {
   "cell_type": "code",
   "execution_count": 7,
   "id": "6153210a",
   "metadata": {},
   "outputs": [
    {
     "name": "stdout",
     "output_type": "stream",
     "text": [
      "산술연산 - \n",
      "[ 10  40  90 160 250]\n"
     ]
    }
   ],
   "source": [
    "print('산술연산 - ')\n",
    "print(ary01 * ary02)"
   ]
  },
  {
   "cell_type": "code",
   "execution_count": 9,
   "id": "bf16df08",
   "metadata": {},
   "outputs": [
    {
     "name": "stdout",
     "output_type": "stream",
     "text": [
      "비교연산 - \n",
      "[False  True False False False] <class 'numpy.ndarray'> False\n",
      "[2]\n"
     ]
    }
   ],
   "source": [
    "print('비교연산 - ')\n",
    "ary01 == 2\n",
    "boolean_masking = (ary01==2)\n",
    "print(boolean_masking, type(boolean_masking), boolean_masking[0])\n",
    "print(ary01[boolean_masking])"
   ]
  },
  {
   "cell_type": "code",
   "execution_count": 10,
   "id": "159f38d5",
   "metadata": {},
   "outputs": [
    {
     "name": "stdout",
     "output_type": "stream",
     "text": [
      "논리연산 - \n",
      "[False  True False False False]\n",
      "[False  True  True  True  True]\n",
      "[False  True False False False]\n",
      "[False  True  True  True  True]\n"
     ]
    }
   ],
   "source": [
    "print('논리연산 - ')\n",
    "print(ary01 == 2)\n",
    "print(ary02 > 10)\n",
    "print( (ary01 == 2) & (ary02 > 10))\n",
    "print( (ary01 == 2) | (ary02 > 10))"
   ]
  },
  {
   "cell_type": "markdown",
   "id": "89ebc349",
   "metadata": {},
   "source": [
    "- 2차원배열(matrix - 행렬): list of list\n",
    "- N-dimensional Array"
   ]
  },
  {
   "cell_type": "code",
   "execution_count": 12,
   "id": "7db47eb4",
   "metadata": {},
   "outputs": [
    {
     "name": "stdout",
     "output_type": "stream",
     "text": [
      "2*3의 배열을 생성한다면? - \n",
      "type -  <class 'numpy.ndarray'>\n",
      "shape -  (2, 3)\n",
      "dimension -  2\n",
      "dtype -  int32\n",
      "\n",
      "data - \n",
      "[[1 2 3]\n",
      " [4 5 6]]\n",
      "\n",
      "len() -  2\n",
      "len() -  3\n",
      "len() -  3\n"
     ]
    }
   ],
   "source": [
    "print('2*3의 배열을 생성한다면? - ')\n",
    "ary = np.array( [[1,2,3],[4,5,6]])\n",
    "aryInfo(ary)\n",
    "print()\n",
    "\n",
    "print('len() - ', len(ary)) # 행의 개수\n",
    "print('len() - ', len(ary[0])) # 첫 번째 행의 요소의 개수\n",
    "print('len() - ', len(ary[1])) # 두 번째 행의 요소의 개수\n"
   ]
  },
  {
   "cell_type": "code",
   "execution_count": 20,
   "id": "2c4f6452",
   "metadata": {},
   "outputs": [
    {
     "name": "stdout",
     "output_type": "stream",
     "text": [
      "3*4의 배열을 두 개 생성한다면? - \n",
      "type -  <class 'numpy.ndarray'>\n",
      "shape -  (2, 3, 4)\n",
      "dimension -  3\n",
      "dtype -  int32\n",
      "\n",
      "data - \n",
      "[[[ 1  2  3  4]\n",
      "  [ 5  6  7  8]\n",
      "  [ 9 10 11 12]]\n",
      "\n",
      " [[13 14 15 16]\n",
      "  [17 18 19 20]\n",
      "  [21 22 23 24]]]\n",
      "\n",
      "len() -  2\n",
      "len() -  3\n"
     ]
    }
   ],
   "source": [
    "print('3*4의 배열을 두 개 생성한다면? - ')\n",
    "ary = np.array([[[1,2,3,4],[5,6,7,8],[9,10,11,12]],\n",
    "                [[13,14,15,16],[17,18,19,20],[21,22,23,24]]])\n",
    "aryInfo(ary)\n",
    "print()\n",
    "\n",
    "print('len() - ', len(ary))\n",
    "print('len() - ', len(ary[0]))"
   ]
  },
  {
   "cell_type": "markdown",
   "id": "010bd4f5",
   "metadata": {},
   "source": [
    "- astype() : 요소의 타입을 변경할 때 사용"
   ]
  },
  {
   "cell_type": "code",
   "execution_count": 21,
   "id": "e836c2e2",
   "metadata": {},
   "outputs": [
    {
     "name": "stdout",
     "output_type": "stream",
     "text": [
      "type -  <class 'numpy.ndarray'>\n",
      "shape -  (2, 3, 4)\n",
      "dimension -  3\n",
      "dtype -  float64\n",
      "\n",
      "data - \n",
      "[[[ 1.  2.  3.  4.]\n",
      "  [ 5.  6.  7.  8.]\n",
      "  [ 9. 10. 11. 12.]]\n",
      "\n",
      " [[13. 14. 15. 16.]\n",
      "  [17. 18. 19. 20.]\n",
      "  [21. 22. 23. 24.]]]\n"
     ]
    }
   ],
   "source": [
    "aryInfo(ary.astype(np.float64))"
   ]
  },
  {
   "cell_type": "markdown",
   "id": "0c91a2be",
   "metadata": {},
   "source": [
    "- 인덱싱과 슬라이싱"
   ]
  },
  {
   "cell_type": "code",
   "execution_count": 128,
   "id": "595c6584",
   "metadata": {},
   "outputs": [
    {
     "name": "stdout",
     "output_type": "stream",
     "text": [
      "type -  <class 'numpy.ndarray'>\n",
      "shape -  (9,)\n",
      "dimension -  1\n",
      "dtype -  int32\n",
      "\n",
      "data - \n",
      "[1 2 3 4 5 6 7 8 9]\n",
      "indexing -  1 9\n",
      "slicing -  [5 6 7]\n",
      "\n",
      "[1 3]\n",
      "[1 3]\n"
     ]
    }
   ],
   "source": [
    "ary = np.array([1,2,3,4,5,6,7,8,9])\n",
    "aryInfo(ary)\n",
    "print('indexing - ' , ary[0], ary[-1])\n",
    "print('slicing - ', ary[4:7])\n",
    "print()\n",
    "\n",
    "print(ary[ [0,2] ]) # 다중 인덱싱은 또 다른 리스트로\n",
    "masking = [True, False, True, False, False, False, False, False, False]\n",
    "print(ary[masking])"
   ]
  },
  {
   "cell_type": "code",
   "execution_count": 40,
   "id": "d7311705",
   "metadata": {},
   "outputs": [
    {
     "name": "stdout",
     "output_type": "stream",
     "text": [
      "type -  <class 'numpy.ndarray'>\n",
      "shape -  (2, 3)\n",
      "dimension -  2\n",
      "dtype -  int32\n",
      "\n",
      "data - \n",
      "[[1 2 3]\n",
      " [4 5 6]]\n",
      "첫 번째 행의 첫 번째 열의 값을 추출 -  1\n",
      "두 번째 행의 첫 번째 열 -  4\n",
      "마지막 행의 마지막 열 -  6 6\n",
      "첫 번째 행의 전체 열 -  [1 2 3] [1 2 3]\n",
      "두 번째 열의 전체 행 -  [2 5]\n",
      "두 번째 행의 두번째부터 끝까지 -  [5 6]\n"
     ]
    }
   ],
   "source": [
    "ary = np.array([[1,2,3],[4,5,6]])\n",
    "aryInfo(ary)\n",
    "print('첫 번째 행의 첫 번째 열의 값을 추출 - ', ary[0,0])\n",
    "print('두 번째 행의 첫 번째 열 - ', ary[1,0])\n",
    "print('마지막 행의 마지막 열 - ', ary[1,2], ary[-1,-1])\n",
    "print('첫 번째 행의 전체 열 - ', ary[0,], ary[0, :])\n",
    "print('두 번째 열의 전체 행 - ', ary[:,1])\n",
    "print('두 번째 행의 두번째부터 끝까지 - ', ary[1,1:])"
   ]
  },
  {
   "cell_type": "markdown",
   "id": "0ee0edd2",
   "metadata": {},
   "source": [
    "- fancy indexing == array indexing\n",
    "- 정수 배열 인덱싱\n",
    "- 불리언 인덱싱"
   ]
  },
  {
   "cell_type": "code",
   "execution_count": 44,
   "id": "2af34f47",
   "metadata": {},
   "outputs": [
    {
     "name": "stdout",
     "output_type": "stream",
     "text": [
      "type -  <class 'numpy.ndarray'>\n",
      "shape -  (9,)\n",
      "dimension -  1\n",
      "dtype -  int32\n",
      "\n",
      "data - \n",
      "[1 2 3 4 5 6 7 8 9]\n",
      "짝수의 원소만 추출? -  [2 4 6 8]\n"
     ]
    }
   ],
   "source": [
    "ary = np.array([1,2,3,4,5,6,7,8,9])\n",
    "aryInfo(ary)\n",
    "print('짝수의 원소만 추출? - ', ary[ary%2==0])\n",
    "\n",
    "evenidx = np.array([1,3,5,7,9])\n",
    "oddidx = np.array([0,2,4,6,8])"
   ]
  },
  {
   "cell_type": "code",
   "execution_count": 50,
   "id": "93c243eb",
   "metadata": {},
   "outputs": [
    {
     "name": "stdout",
     "output_type": "stream",
     "text": [
      "type -  <class 'numpy.ndarray'>\n",
      "shape -  (20,)\n",
      "dimension -  1\n",
      "dtype -  int32\n",
      "\n",
      "data - \n",
      "[ 1  2  3  4  5  6  7  8  9 10 11 12 13 14 15 16 17 18 19 20]\n",
      "\n",
      "3의 배수만 추출 -  [ 3  6  9 12 15 18]\n",
      "4로 나누면 1이 남는 수를 추출 -  [ 1  5  9 13 17]\n",
      "3의 배수이고 4로 나누면 1이 남는 수를 추출 -  [9]\n"
     ]
    }
   ],
   "source": [
    "ary = np.arange(1, 21)\n",
    "aryInfo(ary)\n",
    "print()\n",
    "\n",
    "print('3의 배수만 추출 - ', ary[ary%3==0])\n",
    "print('4로 나누면 1이 남는 수를 추출 - ', ary[ary%4==1])\n",
    "print('3의 배수이고 4로 나누면 1이 남는 수를 추출 - ', ary[(ary%3==0) & (ary%4==1)])"
   ]
  },
  {
   "cell_type": "markdown",
   "id": "948a7a91",
   "metadata": {},
   "source": [
    "- reshape(): 배열의 변형"
   ]
  },
  {
   "cell_type": "code",
   "execution_count": 74,
   "id": "58374b61",
   "metadata": {},
   "outputs": [
    {
     "name": "stdout",
     "output_type": "stream",
     "text": [
      "type -  <class 'numpy.ndarray'>\n",
      "shape -  (3, 4)\n",
      "dimension -  2\n",
      "dtype -  int32\n",
      "\n",
      "data - \n",
      "[[ 1  2  3  4]\n",
      " [ 5  6  7  8]\n",
      " [ 9 10 11 12]]\n",
      "\n",
      "정수 배열 인덱싱 - \n",
      "[[ 1  4]\n",
      " [ 5  8]\n",
      " [ 9 12]]\n",
      "\n",
      "위 코드를 불리언 인덱싱으로 - \n",
      "[[ 1  4]\n",
      " [ 5  8]\n",
      " [ 9 12]]\n",
      "\n",
      "5 추출 -  5 <class 'numpy.int32'>\n",
      "5 추출 -  [[5]] <class 'numpy.ndarray'>\n",
      "\n",
      " [2 10] 추출 -  [ 2 10]\n",
      " [[2] [10]] 추출 -  [[ 2]\n",
      " [10]]\n",
      " [[1 3] [9 11]] 추출 - \n",
      "[[ 1  3]\n",
      " [ 9 11]]\n",
      "numpy ix_() 함수\n",
      "[[ 1  3]\n",
      " [ 9 11]]\n"
     ]
    },
    {
     "name": "stderr",
     "output_type": "stream",
     "text": [
      "C:\\Users\\user\\AppData\\Local\\Temp\\ipykernel_35428\\2456886232.py:24: FutureWarning: Using a non-tuple sequence for multidimensional indexing is deprecated; use `arr[tuple(seq)]` instead of `arr[seq]`. In the future this will be interpreted as an array index, `arr[np.array(seq)]`, which will result either in an error or a different result.\n",
      "  print(ary[[row_idx]][:, col_idx])\n"
     ]
    }
   ],
   "source": [
    "ary = np.arange(1,13).reshape(3,-1)\n",
    "aryInfo(ary)\n",
    "print()\n",
    "\n",
    "print('정수 배열 인덱싱 - ')\n",
    "col_idx = [0,3]\n",
    "print(ary[:, col_idx])\n",
    "print()\n",
    "\n",
    "print('위 코드를 불리언 인덱싱으로 - ')\n",
    "boolean_col_idx= [True, False, False, True]\n",
    "print(ary[:,boolean_col_idx])\n",
    "print()\n",
    "\n",
    "print('5 추출 - ', ary[1,0], type(ary[1,0]))\n",
    "print('5 추출 - ', ary[1:2, 0:1], type(ary[1:2, 0:1]))\n",
    "print()\n",
    "\n",
    "print(' [2 10] 추출 - ', ary[ [0,2], 1])\n",
    "print(' [[2] [10]] 추출 - ', ary[[0,2],1:2])\n",
    "print(' [[1 3] [9 11]] 추출 - ')\n",
    "row_idx = np.array([0,2])\n",
    "col_idx = np.array([0,2])\n",
    "print(ary[[row_idx]][:, col_idx])\n",
    "\n",
    "print('numpy ix_() 함수')\n",
    "print(ary[np.ix_(row_idx, col_idx)])"
   ]
  },
  {
   "cell_type": "markdown",
   "id": "48ed0f2d",
   "metadata": {},
   "source": [
    "- dtype: b - > 불리언, i -> 정수, u -> 부호 없는 정수, f - > 부동소수점, U -> 문자열"
   ]
  },
  {
   "cell_type": "code",
   "execution_count": 75,
   "id": "91608054",
   "metadata": {},
   "outputs": [
    {
     "name": "stdout",
     "output_type": "stream",
     "text": [
      "type -  <class 'numpy.ndarray'>\n",
      "shape -  (3,)\n",
      "dimension -  1\n",
      "dtype -  <U1\n",
      "\n",
      "data - \n",
      "['1' '2' '3']\n"
     ]
    }
   ],
   "source": [
    "ary = np.array([1,2,3], dtype = 'U')\n",
    "aryInfo(ary)"
   ]
  },
  {
   "cell_type": "markdown",
   "id": "a9123902",
   "metadata": {},
   "source": [
    "- inf(infinity), nan(not a number)"
   ]
  },
  {
   "cell_type": "code",
   "execution_count": 76,
   "id": "f013bc3b",
   "metadata": {},
   "outputs": [
    {
     "name": "stdout",
     "output_type": "stream",
     "text": [
      "infinity -  -inf\n",
      "infinity - not a number -  [inf nan]\n"
     ]
    },
    {
     "name": "stderr",
     "output_type": "stream",
     "text": [
      "C:\\Users\\user\\AppData\\Local\\Temp\\ipykernel_35428\\2693944456.py:1: RuntimeWarning: divide by zero encountered in log\n",
      "  print('infinity - ', np.log(0) )\n",
      "C:\\Users\\user\\AppData\\Local\\Temp\\ipykernel_35428\\2693944456.py:2: RuntimeWarning: divide by zero encountered in true_divide\n",
      "  print('infinity - not a number - ', np.array([1,0]) / np.array([0, 0]))\n",
      "C:\\Users\\user\\AppData\\Local\\Temp\\ipykernel_35428\\2693944456.py:2: RuntimeWarning: invalid value encountered in true_divide\n",
      "  print('infinity - not a number - ', np.array([1,0]) / np.array([0, 0]))\n"
     ]
    }
   ],
   "source": [
    "print('infinity - ', np.log(0) )\n",
    "print('infinity - not a number - ', np.array([1,0]) / np.array([0, 0]))"
   ]
  },
  {
   "cell_type": "markdown",
   "id": "a66bb3df",
   "metadata": {},
   "source": [
    "- 배열 생성: array(), arange(), zeros(), ones, zeros_like(), ones_like(), empty(), linspace(), logspace()"
   ]
  },
  {
   "cell_type": "code",
   "execution_count": 78,
   "id": "6aa81d7e",
   "metadata": {},
   "outputs": [
    {
     "name": "stdout",
     "output_type": "stream",
     "text": [
      "type -  <class 'numpy.ndarray'>\n",
      "shape -  (3, 5, 2)\n",
      "dimension -  3\n",
      "dtype -  int32\n",
      "\n",
      "data - \n",
      "[[[0 0]\n",
      "  [0 0]\n",
      "  [0 0]\n",
      "  [0 0]\n",
      "  [0 0]]\n",
      "\n",
      " [[0 0]\n",
      "  [0 0]\n",
      "  [0 0]\n",
      "  [0 0]\n",
      "  [0 0]]\n",
      "\n",
      " [[0 0]\n",
      "  [0 0]\n",
      "  [0 0]\n",
      "  [0 0]\n",
      "  [0 0]]]\n"
     ]
    }
   ],
   "source": [
    "ary = np.zeros((3,5,2), dtype='i')\n",
    "aryInfo(ary)"
   ]
  },
  {
   "cell_type": "code",
   "execution_count": 79,
   "id": "388b793a",
   "metadata": {},
   "outputs": [
    {
     "data": {
      "text/plain": [
       "array([ 3,  5,  7,  9, 11, 13, 15, 17, 19])"
      ]
     },
     "execution_count": 79,
     "metadata": {},
     "output_type": "execute_result"
    }
   ],
   "source": [
    "ary= np.arange(3, 21, 2)\n",
    "ary"
   ]
  },
  {
   "cell_type": "code",
   "execution_count": 80,
   "id": "bfb68183",
   "metadata": {},
   "outputs": [
    {
     "data": {
      "text/plain": [
       "array([  0.,  25.,  50.,  75., 100.])"
      ]
     },
     "execution_count": 80,
     "metadata": {},
     "output_type": "execute_result"
    }
   ],
   "source": [
    "np.linspace(0, 100, 5)"
   ]
  },
  {
   "cell_type": "code",
   "execution_count": 81,
   "id": "3ee63818",
   "metadata": {},
   "outputs": [
    {
     "data": {
      "text/plain": [
       "array([ 1.25892541,  1.58489319,  1.99526231,  2.51188643,  3.16227766,\n",
       "        3.98107171,  5.01187234,  6.30957344,  7.94328235, 10.        ])"
      ]
     },
     "execution_count": 81,
     "metadata": {},
     "output_type": "execute_result"
    }
   ],
   "source": [
    "np.logspace(0.1, 1, 10)"
   ]
  },
  {
   "cell_type": "markdown",
   "id": "93b39592",
   "metadata": {},
   "source": [
    "- transpose matrix(전치행렬)\n",
    "- T"
   ]
  },
  {
   "cell_type": "code",
   "execution_count": 83,
   "id": "d8fa267a",
   "metadata": {},
   "outputs": [
    {
     "name": "stdout",
     "output_type": "stream",
     "text": [
      "type -  <class 'numpy.ndarray'>\n",
      "shape -  (3, 2)\n",
      "dimension -  2\n",
      "dtype -  int32\n",
      "\n",
      "data - \n",
      "[[1 2]\n",
      " [3 4]\n",
      " [5 6]]\n",
      "\n",
      "T\n",
      "type -  <class 'numpy.ndarray'>\n",
      "shape -  (2, 3)\n",
      "dimension -  2\n",
      "dtype -  int32\n",
      "\n",
      "data - \n",
      "[[1 3 5]\n",
      " [2 4 6]]\n"
     ]
    }
   ],
   "source": [
    "ary = np.arange(1,7).reshape(3,2)\n",
    "aryInfo(ary)\n",
    "print()\n",
    "\n",
    "print('T')\n",
    "ary_transpose = ary.T\n",
    "aryInfo(ary_transpose)"
   ]
  },
  {
   "cell_type": "code",
   "execution_count": 96,
   "id": "c8120aa2",
   "metadata": {},
   "outputs": [
    {
     "name": "stdout",
     "output_type": "stream",
     "text": [
      "1차원 배열에 대한 전치행렬이 필요한 경우 - \n",
      "type -  <class 'numpy.ndarray'>\n",
      "shape -  (6,)\n",
      "dimension -  1\n",
      "dtype -  int32\n",
      "\n",
      "data - \n",
      "[1 2 3 4 5 6]\n",
      "type -  <class 'numpy.ndarray'>\n",
      "shape -  (1, 6)\n",
      "dimension -  2\n",
      "dtype -  int32\n",
      "\n",
      "data - \n",
      "[[1 2 3 4 5 6]]\n",
      "[[1]\n",
      " [2]\n",
      " [3]\n",
      " [4]\n",
      " [5]\n",
      " [6]]\n"
     ]
    }
   ],
   "source": [
    "print('1차원 배열에 대한 전치행렬이 필요한 경우 - ')\n",
    "ary = np.arange(1,7)\n",
    "aryInfo(ary)\n",
    "ary_transpose = ary.reshape(1,6)\n",
    "aryInfo(ary_transpose)\n",
    "print(ary_transpose.T)"
   ]
  },
  {
   "cell_type": "markdown",
   "id": "613577a5",
   "metadata": {},
   "source": [
    "- 다차원 배열을 1차원으로 만들어야 한다면?\n",
    "- flatten()"
   ]
  },
  {
   "cell_type": "code",
   "execution_count": 97,
   "id": "a568414d",
   "metadata": {},
   "outputs": [
    {
     "name": "stdout",
     "output_type": "stream",
     "text": [
      "type -  <class 'numpy.ndarray'>\n",
      "shape -  (6,)\n",
      "dimension -  1\n",
      "dtype -  int32\n",
      "\n",
      "data - \n",
      "[1 2 3 4 5 6]\n"
     ]
    }
   ],
   "source": [
    "aryInfo(ary_transpose.flatten())"
   ]
  },
  {
   "cell_type": "markdown",
   "id": "3f33f90d",
   "metadata": {},
   "source": [
    "- 배열 사용시 주의점(차원에 대한 주의)"
   ]
  },
  {
   "cell_type": "code",
   "execution_count": 99,
   "id": "6c21f758",
   "metadata": {},
   "outputs": [
    {
     "name": "stdout",
     "output_type": "stream",
     "text": [
      "type -  <class 'numpy.ndarray'>\n",
      "shape -  (10,)\n",
      "dimension -  1\n",
      "dtype -  int32\n",
      "\n",
      "data - \n",
      "[0 1 2 3 4 5 6 7 8 9]\n",
      "reshape -  [[0 1 2 3 4 5 6 7 8 9]]\n",
      "reshape -  [[0]\n",
      " [1]\n",
      " [2]\n",
      " [3]\n",
      " [4]\n",
      " [5]\n",
      " [6]\n",
      " [7]\n",
      " [8]\n",
      " [9]]\n",
      "\n",
      "차원의 변경이 아닌 차원증가를 위해서는 - newaxis\n",
      "[[0 1 2 3 4 5 6 7 8 9]]\n",
      "[[0]\n",
      " [1]\n",
      " [2]\n",
      " [3]\n",
      " [4]\n",
      " [5]\n",
      " [6]\n",
      " [7]\n",
      " [8]\n",
      " [9]]\n"
     ]
    }
   ],
   "source": [
    "ary = np.arange(10)\n",
    "aryinfo(ary)\n",
    "print('reshape - ', ary.reshape(1,10))\n",
    "print('reshape - ', ary.reshape(10,1))\n",
    "print()\n",
    "\n",
    "print('차원의 변경이 아닌 차원증가를 위해서는 - newaxis')\n",
    "print(ary[np.newaxis, : ])\n",
    "print(ary[ :, np.newaxis])\n"
   ]
  },
  {
   "cell_type": "markdown",
   "id": "00c7997f",
   "metadata": {},
   "source": [
    "- ndarray(배열) 모든 원소에 대해서 순차적으로 접근해야하는 경우\n",
    "- iternext(), finished"
   ]
  },
  {
   "cell_type": "code",
   "execution_count": 104,
   "id": "48516642",
   "metadata": {},
   "outputs": [
    {
     "data": {
      "text/plain": [
       "array([ 1,  2,  3,  4,  5,  6,  7,  8,  9, 10])"
      ]
     },
     "execution_count": 104,
     "metadata": {},
     "output_type": "execute_result"
    }
   ],
   "source": [
    "ary = np.arange(1,11)\n",
    "ary"
   ]
  },
  {
   "cell_type": "code",
   "execution_count": 102,
   "id": "c0d7ab15",
   "metadata": {},
   "outputs": [
    {
     "name": "stdout",
     "output_type": "stream",
     "text": [
      "0\t1\t2\t3\t4\t5\t6\t7\t8\t9\t\n",
      "0\t1\t2\t3\t4\t5\t6\t7\t8\t9\t"
     ]
    }
   ],
   "source": [
    "for tmp in ary :\n",
    "    print(tmp, end=\"\\t\")\n",
    "print()\n",
    "\n",
    "for idx in range(len(ary)) :\n",
    "    print(ary[idx], end=\"\\t\")"
   ]
  },
  {
   "cell_type": "code",
   "execution_count": 105,
   "id": "0bab42b3",
   "metadata": {},
   "outputs": [
    {
     "name": "stdout",
     "output_type": "stream",
     "text": [
      "1차원 ndarray 에 대한 순차 접근 - \n",
      "idx -  0 1\tidx -  1 2\tidx -  2 3\tidx -  3 4\tidx -  4 5\tidx -  5 6\tidx -  6 7\tidx -  7 8\tidx -  8 9\tidx -  9 10\t"
     ]
    }
   ],
   "source": [
    "print('1차원 ndarray 에 대한 순차 접근 - ')\n",
    "iter = np.nditer(ary, flags = ['c_index'])\n",
    "\n",
    "while not iter.finished:\n",
    "    idx= iter.index\n",
    "    print('idx - ', idx, ary[idx], end=\"\\t\")\n",
    "    iter.iternext()"
   ]
  },
  {
   "cell_type": "code",
   "execution_count": 127,
   "id": "2ddf7a9f",
   "metadata": {},
   "outputs": [
    {
     "name": "stdout",
     "output_type": "stream",
     "text": [
      "2차원 ndarray에 대한 iterator - \n",
      "[[ 1  2  3  4  5]\n",
      " [ 6  7  8  9 10]]\n",
      "기존 for 구문을 이용한 순차 접근\n",
      "(2, 5)\n",
      "2\n",
      "5\n",
      "1\t2\t3\t4\t5\t\n",
      "6\t7\t8\t9\t10\t\n",
      "nditer - \n",
      "1\t2\t3\t4\t5\t\n",
      "6\t7\t8\t9\t10\t"
     ]
    }
   ],
   "source": [
    "print('2차원 ndarray에 대한 iterator - ')\n",
    "\n",
    "ary = ary.reshape(2,5)\n",
    "print(ary)\n",
    "\n",
    "print('기존 for 구문을 이용한 순차 접근')\n",
    "print(ary.shape)\n",
    "print(ary.shape[0])\n",
    "print(ary.shape[1])\n",
    "for row in range(ary.shape[0]) :\n",
    "    for col in range(ary.shape[1]) :\n",
    "        print(ary[row][col], end = '\\t')\n",
    "    print()\n",
    "\n",
    "print('nditer - ')\n",
    "iter = np.nditer(ary, flags = ['multi_index'])\n",
    "\n",
    "cnt=0\n",
    "while not iter.finished:\n",
    "    idx = iter.multi_index\n",
    "    #print('idx - ', idx, ary[idx], end=\"\\t\")\n",
    "    #print('row - index : ', idx[0])\n",
    "    if idx[0] == 0:\n",
    "        print(ary[idx], end=\"\\t\")\n",
    "        cnt = cnt +1\n",
    "        if cnt%5 == 0:\n",
    "            print()\n",
    "    else :\n",
    "        print(ary[idx], end=\"\\t\")\n",
    "        \n",
    "        \n",
    "    iter.iternext()"
   ]
  },
  {
   "cell_type": "code",
   "execution_count": 119,
   "id": "9081d622",
   "metadata": {},
   "outputs": [],
   "source": []
  },
  {
   "cell_type": "code",
   "execution_count": null,
   "id": "1d4bae33",
   "metadata": {},
   "outputs": [],
   "source": []
  }
 ],
 "metadata": {
  "kernelspec": {
   "display_name": "Python 3 (ipykernel)",
   "language": "python",
   "name": "python3"
  },
  "language_info": {
   "codemirror_mode": {
    "name": "ipython",
    "version": 3
   },
   "file_extension": ".py",
   "mimetype": "text/x-python",
   "name": "python",
   "nbconvert_exporter": "python",
   "pygments_lexer": "ipython3",
   "version": "3.9.12"
  }
 },
 "nbformat": 4,
 "nbformat_minor": 5
}
