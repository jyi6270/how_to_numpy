{
 "cells": [
  {
   "cell_type": "code",
   "execution_count": 2,
   "id": "99487f71",
   "metadata": {},
   "outputs": [],
   "source": [
    "import numpy as np\n",
    "import pandas as pd\n",
    "\n",
    "# 배열의 정보를 확인하기 위한 함수 정의\n",
    "\n",
    "def aryInfo(ary) :\n",
    "    print('type - ', type(ary))\n",
    "    print('shape - ', ary.shape)\n",
    "    print('dimension - ', ary.ndim)\n",
    "    print('dtype - ', ary.dtype)\n",
    "    print()\n",
    "    print('data - ')\n",
    "    print(ary)"
   ]
  },
  {
   "cell_type": "markdown",
   "id": "0e1f0e76",
   "metadata": {},
   "source": [
    "- 배열 연결(concatenate)\n",
    "- hstack(), vstack(), dstack(), r_, c_, tile"
   ]
  },
  {
   "cell_type": "code",
   "execution_count": 4,
   "id": "1d5022af",
   "metadata": {},
   "outputs": [
    {
     "name": "stdout",
     "output_type": "stream",
     "text": [
      "hstack - 행의 수가 같은 두 개 이상의 배열을 연결\n",
      "[[1. 1. 1. 1.]\n",
      " [1. 1. 1. 1.]\n",
      " [1. 1. 1. 1.]]\n",
      "[[0. 0. 0. 0. 0.]\n",
      " [0. 0. 0. 0. 0.]\n",
      " [0. 0. 0. 0. 0.]]\n",
      "\n",
      "[[1. 1. 1. 1. 0. 0. 0. 0. 0.]\n",
      " [1. 1. 1. 1. 0. 0. 0. 0. 0.]\n",
      " [1. 1. 1. 1. 0. 0. 0. 0. 0.]]\n"
     ]
    }
   ],
   "source": [
    "print('hstack - 행의 수가 같은 두 개 이상의 배열을 연결')\n",
    "\n",
    "ary01 = np.ones((3,4))\n",
    "print(ary01)\n",
    "ary02 = np.zeros((3,5))\n",
    "print(ary02)\n",
    "print()\n",
    "\n",
    "print(np.hstack([ary01, ary02]))"
   ]
  },
  {
   "cell_type": "code",
   "execution_count": 5,
   "id": "a7c3f072",
   "metadata": {},
   "outputs": [
    {
     "name": "stdout",
     "output_type": "stream",
     "text": [
      "vstack - 열의 수가 같은 두 개 이상의 배열을 연결\n",
      "[[1. 1. 1. 1.]\n",
      " [1. 1. 1. 1.]\n",
      " [1. 1. 1. 1.]]\n",
      "[[0. 0. 0. 0.]\n",
      " [0. 0. 0. 0.]\n",
      " [0. 0. 0. 0.]]\n",
      "\n",
      "[[1. 1. 1. 1.]\n",
      " [1. 1. 1. 1.]\n",
      " [1. 1. 1. 1.]\n",
      " [0. 0. 0. 0.]\n",
      " [0. 0. 0. 0.]\n",
      " [0. 0. 0. 0.]]\n"
     ]
    }
   ],
   "source": [
    "print('vstack - 열의 수가 같은 두 개 이상의 배열을 연결')\n",
    "\n",
    "ary01 = np.ones((3,4))\n",
    "print(ary01)\n",
    "ary02 = np.zeros((3,4))\n",
    "print(ary02)\n",
    "print()\n",
    "\n",
    "print(np.vstack([ary01, ary02]))"
   ]
  },
  {
   "cell_type": "code",
   "execution_count": 7,
   "id": "8a46342e",
   "metadata": {},
   "outputs": [
    {
     "name": "stdout",
     "output_type": "stream",
     "text": [
      "dstack - 행과 열이 아닌 깊이 방향으로 배열을 연결\n",
      "[[1. 1. 1. 1.]\n",
      " [1. 1. 1. 1.]\n",
      " [1. 1. 1. 1.]]\n",
      "[[0. 0. 0. 0.]\n",
      " [0. 0. 0. 0.]\n",
      " [0. 0. 0. 0.]]\n",
      "\n",
      "[[[1. 0.]\n",
      "  [1. 0.]\n",
      "  [1. 0.]\n",
      "  [1. 0.]]\n",
      "\n",
      " [[1. 0.]\n",
      "  [1. 0.]\n",
      "  [1. 0.]\n",
      "  [1. 0.]]\n",
      "\n",
      " [[1. 0.]\n",
      "  [1. 0.]\n",
      "  [1. 0.]\n",
      "  [1. 0.]]]\n"
     ]
    }
   ],
   "source": [
    "print('dstack - 행과 열이 아닌 깊이 방향으로 배열을 연결')\n",
    "# 반드시 행과 열이 같아야 한다\n",
    "ary01 = np.ones((3,4))\n",
    "print(ary01)\n",
    "ary02 = np.zeros((3,4))\n",
    "print(ary02)\n",
    "print()\n",
    "\n",
    "print(np.dstack([ary01, ary02]))"
   ]
  },
  {
   "cell_type": "code",
   "execution_count": 10,
   "id": "aa8fac32",
   "metadata": {},
   "outputs": [
    {
     "name": "stdout",
     "output_type": "stream",
     "text": [
      "stack - 사용자가 지정한 차원(축: x, y) 배열을 연결\n",
      "[[1. 1. 1. 1.]\n",
      " [1. 1. 1. 1.]\n",
      " [1. 1. 1. 1.]]\n",
      "[[0. 0. 0. 0.]\n",
      " [0. 0. 0. 0.]\n",
      " [0. 0. 0. 0.]]\n",
      "\n",
      "[[[1. 1. 1. 1.]\n",
      "  [1. 1. 1. 1.]\n",
      "  [1. 1. 1. 1.]]\n",
      "\n",
      " [[0. 0. 0. 0.]\n",
      "  [0. 0. 0. 0.]\n",
      "  [0. 0. 0. 0.]]]\n",
      "[[[1. 1. 1. 1.]\n",
      "  [0. 0. 0. 0.]]\n",
      "\n",
      " [[1. 1. 1. 1.]\n",
      "  [0. 0. 0. 0.]]\n",
      "\n",
      " [[1. 1. 1. 1.]\n",
      "  [0. 0. 0. 0.]]]\n",
      "\n",
      "type -  <class 'numpy.ndarray'>\n",
      "shape -  (2, 3, 4)\n",
      "dimension -  3\n",
      "dtype -  float64\n",
      "\n",
      "data - \n",
      "[[[1. 1. 1. 1.]\n",
      "  [1. 1. 1. 1.]\n",
      "  [1. 1. 1. 1.]]\n",
      "\n",
      " [[0. 0. 0. 0.]\n",
      "  [0. 0. 0. 0.]\n",
      "  [0. 0. 0. 0.]]]\n"
     ]
    }
   ],
   "source": [
    "print('stack - 사용자가 지정한 차원(축: x, y) 배열을 연결')\n",
    "# 축 방향: axis = 0 default\n",
    "ary01 = np.ones((3,4))\n",
    "print(ary01)\n",
    "ary02 = np.zeros((3,4))\n",
    "print(ary02)\n",
    "print()\n",
    "\n",
    "print(np.stack([ary01, ary02]))\n",
    "print(np.stack([ary01, ary02], axis=1))\n",
    "\n",
    "print()\n",
    "aryInfo(np.stack([ary01, ary02]))"
   ]
  },
  {
   "cell_type": "code",
   "execution_count": 15,
   "id": "81e71763",
   "metadata": {},
   "outputs": [
    {
     "name": "stdout",
     "output_type": "stream",
     "text": [
      "r_[] - 인덱서 == hstack 열의 증가하는 배열 연결\n",
      "c_[] - 인덱서 == 배열의 차원증가 후 배열 연결\n",
      "[1 2 3 4 5 6]\n",
      "\n",
      "[[1 4]\n",
      " [2 5]\n",
      " [3 6]]\n"
     ]
    }
   ],
   "source": [
    "print('r_[] - 인덱서 == hstack 열의 증가하는 배열 연결')\n",
    "print('c_[] - 인덱서 == 배열의 차원증가 후 배열 연결')\n",
    "print(np.r_[np.array([1,2,3]), np.array([4,5,6])])\n",
    "print()\n",
    "\n",
    "print(np.c_[np.array([1,2,3]), np.array([4,5,6])])"
   ]
  },
  {
   "cell_type": "code",
   "execution_count": 17,
   "id": "2cb588ff",
   "metadata": {},
   "outputs": [
    {
     "name": "stdout",
     "output_type": "stream",
     "text": [
      "tile - 동일한 배열을 반복하여 연결\n",
      "type -  <class 'numpy.ndarray'>\n",
      "shape -  (2, 3)\n",
      "dimension -  2\n",
      "dtype -  int32\n",
      "\n",
      "data - \n",
      "[[1 2 3]\n",
      " [4 5 6]]\n",
      "\n",
      "[[1 2 3 1 2 3 1 2 3]\n",
      " [4 5 6 4 5 6 4 5 6]\n",
      " [1 2 3 1 2 3 1 2 3]\n",
      " [4 5 6 4 5 6 4 5 6]\n",
      " [1 2 3 1 2 3 1 2 3]\n",
      " [4 5 6 4 5 6 4 5 6]]\n"
     ]
    }
   ],
   "source": [
    "print('tile - 동일한 배열을 반복하여 연결')\n",
    "ary = np.array([[1,2,3],[4,5,6]])\n",
    "aryInfo(ary)\n",
    "print()\n",
    "print(np.tile(ary, (3,3)))"
   ]
  },
  {
   "cell_type": "code",
   "execution_count": 38,
   "id": "a36db891",
   "metadata": {},
   "outputs": [
    {
     "name": "stdout",
     "output_type": "stream",
     "text": [
      "[[  0.   0.   0.   1.   1.]\n",
      " [  0.   0.   0.   1.   1.]\n",
      " [  0.   0.   0.   1.   1.]\n",
      " [ 10.  20.  30.  40.  50.]\n",
      " [ 60.  70.  80.  90. 100.]\n",
      " [110. 120. 130. 140. 150.]\n",
      " [  0.   0.   0.   1.   1.]\n",
      " [  0.   0.   0.   1.   1.]\n",
      " [  0.   0.   0.   1.   1.]\n",
      " [ 10.  20.  30.  40.  50.]\n",
      " [ 60.  70.  80.  90. 100.]\n",
      " [110. 120. 130. 140. 150.]]\n"
     ]
    }
   ],
   "source": [
    "# 위 결과가 나올 수 있도록 함수를 이용하여 작성해 보세요~~~\n",
    "# array([[   0.,    0.,    0.,    1.,    1.],\n",
    "#        [   0.,    0.,    0.,    1.,    1.],\n",
    "#        [   0.,    0.,    0.,    1.,    1.],\n",
    "#        [  10.,   20.,   30.,   40.,   50.],\n",
    "#        [  60.,   70.,   80.,   90.,  100.],\n",
    "#        [ 110.,  120.,  130.,  140.,  150.],\n",
    "#        [   0.,    0.,    0.,    1.,    1.],\n",
    "#        [   0.,    0.,    0.,    1.,    1.],\n",
    "#        [   0.,    0.,    0.,    1.,    1.],\n",
    "#        [  10.,   20.,   30.,   40.,   50.],\n",
    "#        [  60.,   70.,   80.,   90.,  100.],\n",
    "#        [ 110.,  120.,  130.,  140.,  150.]])\n",
    "\n",
    "ary01 = np.zeros((3,3))\n",
    "ary02 = np.ones((3,2))\n",
    "ary_hstack = np.hstack([ary01, ary02])\n",
    "ary03 = np.arange(10,160,10).reshape(3,5)\n",
    "ary_vstack = np.vstack([ary_hstack, ary03])\n",
    "answer = np.tile(ary_vstack, (2,1))\n",
    "print(answer)"
   ]
  },
  {
   "cell_type": "markdown",
   "id": "34f9a6c0",
   "metadata": {},
   "source": [
    "#### delete()\n",
    "- axis 기준행과 열을 삭제할 수 있다: axis = 0(행), 1(열)\n",
    "- axis 지정하지 않으면 1차원 변환 후 삭제\n",
    "- 원본배열을 변경하지 않고 새로운 배열 return"
   ]
  },
  {
   "cell_type": "code",
   "execution_count": 44,
   "id": "894fb21d",
   "metadata": {},
   "outputs": [
    {
     "name": "stdout",
     "output_type": "stream",
     "text": [
      "type -  <class 'numpy.ndarray'>\n",
      "shape -  (3, 4)\n",
      "dimension -  2\n",
      "dtype -  int32\n",
      "\n",
      "data - \n",
      "[[9 8 5 9]\n",
      " [1 9 5 3]\n",
      " [3 2 0 0]]\n"
     ]
    }
   ],
   "source": [
    "ary = np.random.randint(0,10, (3,4))\n",
    "aryInfo(ary)"
   ]
  },
  {
   "cell_type": "code",
   "execution_count": 46,
   "id": "025cd03c",
   "metadata": {},
   "outputs": [
    {
     "name": "stdout",
     "output_type": "stream",
     "text": [
      "type -  <class 'numpy.ndarray'>\n",
      "shape -  (3, 3)\n",
      "dimension -  2\n",
      "dtype -  int32\n",
      "\n",
      "data - \n",
      "[[9 5 9]\n",
      " [1 5 3]\n",
      " [3 0 0]]\n"
     ]
    }
   ],
   "source": [
    "ary_new = np.delete(ary, 1, axis = 1)\n",
    "aryInfo(ary_new)"
   ]
  },
  {
   "cell_type": "markdown",
   "id": "210cbd50",
   "metadata": {},
   "source": [
    "- loadtxt() : 파일 입출력 가능"
   ]
  },
  {
   "cell_type": "code",
   "execution_count": 52,
   "id": "30745139",
   "metadata": {},
   "outputs": [
    {
     "name": "stdout",
     "output_type": "stream",
     "text": [
      "type -  <class 'numpy.ndarray'>\n",
      "shape -  (31,)\n",
      "dimension -  1\n",
      "dtype -  object\n",
      "\n",
      "data - \n",
      "['중부서,2,2,3,2,105,65,\"1,395\",477,\"1,355\",\"1,170\"'\n",
      " '종로서,3,3,6,5,115,98,\"1,070\",413,\"1,278\",\"1,070\"'\n",
      " '남대문서,1,0,6,4,65,46,\"1,153\",382,869,794'\n",
      " '서대문서,2,2,5,4,154,124,\"1,812\",738,\"2,056\",\"1,711\"'\n",
      " '혜화서,3,2,5,4,96,63,\"1,114\",424,\"1,015\",861'\n",
      " '용산서,5,5,14,14,194,173,\"1,557\",587,\"2,050\",\"1,704\"'\n",
      " '성북서,2,2,2,1,86,71,953,409,\"1,194\",\"1,015\"'\n",
      " '동대문서,5,5,13,13,173,146,\"1,981\",814,\"2,548\",\"2,227\"'\n",
      " '마포서,8,8,14,10,294,247,\"2,555\",813,\"2,983\",\"2,519\"'\n",
      " '영등포서,14,12,22,20,295,183,\"2,964\",978,\"3,572\",\"2,961\"'\n",
      " '성동서,4,4,9,8,126,119,\"1,607\",597,\"1,612\",\"1,395\"'\n",
      " '동작서,5,5,9,5,285,139,\"1,865\",661,\"1,910\",\"1,587\"'\n",
      " '광진서,4,4,14,26,240,220,\"3,026\",\"1,277\",\"2,625\",\"2,180\"'\n",
      " '서부서,2,2,2,1,70,59,819,293,\"1,192\",\"1,038\"'\n",
      " '강북서,7,8,14,13,153,126,\"1,434\",618,\"2,649\",\"2,348\"'\n",
      " '금천서,3,4,6,6,151,122,\"1,567\",888,\"2,054\",\"1,776\"'\n",
      " '중랑서,13,12,11,9,187,148,\"2,135\",829,\"2,847\",\"2,407\"'\n",
      " '강남서,3,3,15,12,300,225,\"2,411\",984,\"2,465\",\"2,146\"'\n",
      " '관악서,9,8,12,14,320,221,\"2,706\",827,\"3,298\",\"2,642\"'\n",
      " '강서서,7,8,13,13,262,191,\"2,096\",\"1,260\",\"3,207\",\"2,718\"'\n",
      " '강동서,4,3,6,8,156,123,\"2,366\",789,\"2,712\",\"2,248\"'\n",
      " '종암서,3,3,3,3,64,53,832,332,\"1,015\",840'\n",
      " '구로서,8,6,15,11,281,164,\"2,335\",889,\"3,007\",\"2,432\"'\n",
      " '서초서,7,4,8,5,334,193,\"1,982\",905,\"1,852\",\"1,607\"'\n",
      " '양천서,3,5,6,3,120,105,\"1,890\",672,\"2,509\",\"2,030\"'\n",
      " '송파서,11,10,13,10,220,178,\"3,239\",\"1,129\",\"3,295\",\"2,786\"'\n",
      " '노원서,10,10,7,7,197,121,\"2,193\",801,\"2,723\",\"2,329\"'\n",
      " '방배서,1,2,1,1,59,56,653,186,547,491'\n",
      " '은평서,1,1,7,5,96,82,\"1,095\",418,\"1,461\",\"1,268\"'\n",
      " '도봉서,3,3,9,10,102,106,\"1,063\",478,\"1,487\",\"1,303\"'\n",
      " '수서서,10,7,6,6,149,124,\"1,439\",666,\"1,819\",\"1,559\"']\n",
      "\n",
      "중부서,2,2,3,2,105,65,\"1,395\",477,\"1,355\",\"1,170\"\n",
      "\n",
      "type -  <class 'numpy.ndarray'>\n",
      "shape -  (31, 1)\n",
      "dimension -  2\n",
      "dtype -  object\n",
      "\n",
      "data - \n",
      "[['중부서,2,2,3,2,105,65,\"1,395\",477,\"1,355\",\"1,170\"']\n",
      " ['종로서,3,3,6,5,115,98,\"1,070\",413,\"1,278\",\"1,070\"']\n",
      " ['남대문서,1,0,6,4,65,46,\"1,153\",382,869,794']\n",
      " ['서대문서,2,2,5,4,154,124,\"1,812\",738,\"2,056\",\"1,711\"']\n",
      " ['혜화서,3,2,5,4,96,63,\"1,114\",424,\"1,015\",861']\n",
      " ['용산서,5,5,14,14,194,173,\"1,557\",587,\"2,050\",\"1,704\"']\n",
      " ['성북서,2,2,2,1,86,71,953,409,\"1,194\",\"1,015\"']\n",
      " ['동대문서,5,5,13,13,173,146,\"1,981\",814,\"2,548\",\"2,227\"']\n",
      " ['마포서,8,8,14,10,294,247,\"2,555\",813,\"2,983\",\"2,519\"']\n",
      " ['영등포서,14,12,22,20,295,183,\"2,964\",978,\"3,572\",\"2,961\"']\n",
      " ['성동서,4,4,9,8,126,119,\"1,607\",597,\"1,612\",\"1,395\"']\n",
      " ['동작서,5,5,9,5,285,139,\"1,865\",661,\"1,910\",\"1,587\"']\n",
      " ['광진서,4,4,14,26,240,220,\"3,026\",\"1,277\",\"2,625\",\"2,180\"']\n",
      " ['서부서,2,2,2,1,70,59,819,293,\"1,192\",\"1,038\"']\n",
      " ['강북서,7,8,14,13,153,126,\"1,434\",618,\"2,649\",\"2,348\"']\n",
      " ['금천서,3,4,6,6,151,122,\"1,567\",888,\"2,054\",\"1,776\"']\n",
      " ['중랑서,13,12,11,9,187,148,\"2,135\",829,\"2,847\",\"2,407\"']\n",
      " ['강남서,3,3,15,12,300,225,\"2,411\",984,\"2,465\",\"2,146\"']\n",
      " ['관악서,9,8,12,14,320,221,\"2,706\",827,\"3,298\",\"2,642\"']\n",
      " ['강서서,7,8,13,13,262,191,\"2,096\",\"1,260\",\"3,207\",\"2,718\"']\n",
      " ['강동서,4,3,6,8,156,123,\"2,366\",789,\"2,712\",\"2,248\"']\n",
      " ['종암서,3,3,3,3,64,53,832,332,\"1,015\",840']\n",
      " ['구로서,8,6,15,11,281,164,\"2,335\",889,\"3,007\",\"2,432\"']\n",
      " ['서초서,7,4,8,5,334,193,\"1,982\",905,\"1,852\",\"1,607\"']\n",
      " ['양천서,3,5,6,3,120,105,\"1,890\",672,\"2,509\",\"2,030\"']\n",
      " ['송파서,11,10,13,10,220,178,\"3,239\",\"1,129\",\"3,295\",\"2,786\"']\n",
      " ['노원서,10,10,7,7,197,121,\"2,193\",801,\"2,723\",\"2,329\"']\n",
      " ['방배서,1,2,1,1,59,56,653,186,547,491']\n",
      " ['은평서,1,1,7,5,96,82,\"1,095\",418,\"1,461\",\"1,268\"']\n",
      " ['도봉서,3,3,9,10,102,106,\"1,063\",478,\"1,487\",\"1,303\"']\n",
      " ['수서서,10,7,6,6,149,124,\"1,439\",666,\"1,819\",\"1,559\"']]\n",
      "\n"
     ]
    },
    {
     "name": "stderr",
     "output_type": "stream",
     "text": [
      "C:\\Users\\user\\AppData\\Local\\Temp\\ipykernel_29336\\848983900.py:2: DeprecationWarning: `np.object` is a deprecated alias for the builtin `object`. To silence this warning, use `object` by itself. Doing this will not modify any behavior and is safe. \n",
      "Deprecated in NumPy 1.20; for more details and guidance: https://numpy.org/devdocs/release/1.20.0-notes.html#deprecations\n",
      "  dtype = np.object,\n"
     ]
    },
    {
     "data": {
      "text/plain": [
       "'중부서,2,2,3,2,105,65,\"1,395\",477,\"1,355\",\"1,170\"'"
      ]
     },
     "execution_count": 52,
     "metadata": {},
     "output_type": "execute_result"
    }
   ],
   "source": [
    "raw_data = np.loadtxt('./data/numpy_data/02. crime_in_Seoul.csv',\n",
    "                     dtype = np.object,\n",
    "                     skiprows = 1)\n",
    "aryInfo(raw_data)\n",
    "print()\n",
    "\n",
    "print(raw_data[0])\n",
    "print()\n",
    "\n",
    "ary = raw_data[ : , np.newaxis]\n",
    "aryInfo(ary)\n",
    "print()\n",
    "\n",
    "ary[0][0]"
   ]
  },
  {
   "cell_type": "markdown",
   "id": "cf1cd8d9",
   "metadata": {},
   "source": [
    "#### 배열의 연산\n",
    "- vectorized operator(벡터화 연산)\n",
    "- 브로드 캐스팅: 벡터와 행렬의 연산을 위해서는 크기가 같아야 한다."
   ]
  },
  {
   "cell_type": "code",
   "execution_count": 53,
   "id": "f556eead",
   "metadata": {},
   "outputs": [],
   "source": [
    "ary01 = np.arange(1, 10001)\n",
    "ary02 = np.arange(10001, 20001)"
   ]
  },
  {
   "cell_type": "code",
   "execution_count": 54,
   "id": "5951cf73",
   "metadata": {},
   "outputs": [
    {
     "name": "stdout",
     "output_type": "stream",
     "text": [
      "answer\n",
      "[10002 10004 10006 ... 29996 29998 30000]\n",
      "CPU times: total: 0 ns\n",
      "Wall time: 6.52 ms\n"
     ]
    }
   ],
   "source": [
    "%%time\n",
    "result = np.zeros_like(ary01)\n",
    "for idx in range(len(ary01)) :\n",
    "    result[idx] = ary01[idx] + ary02[idx]\n",
    "    \n",
    "print('answer')\n",
    "print(result)"
   ]
  },
  {
   "cell_type": "code",
   "execution_count": 58,
   "id": "eaeac45a",
   "metadata": {},
   "outputs": [
    {
     "name": "stdout",
     "output_type": "stream",
     "text": [
      "answer\n",
      "[10002 10004 10006 ... 29996 29998 30000]\n",
      "CPU times: total: 0 ns\n",
      "Wall time: 980 µs\n"
     ]
    }
   ],
   "source": [
    "%%time\n",
    "result = np.zeros_like(ary01)\n",
    "result = ary01 + ary02\n",
    "print('answer')\n",
    "print(result)"
   ]
  },
  {
   "cell_type": "code",
   "execution_count": 59,
   "id": "4a6a6ed8",
   "metadata": {},
   "outputs": [
    {
     "name": "stdout",
     "output_type": "stream",
     "text": [
      "\n",
      "배열의 모든 원소가 같은지를 비교하고 싶다면? - all()\n"
     ]
    },
    {
     "data": {
      "text/plain": [
       "False"
      ]
     },
     "execution_count": 59,
     "metadata": {},
     "output_type": "execute_result"
    }
   ],
   "source": [
    "ary01 = np.array([1,2,3,4])\n",
    "ary02 = np.array([4,2,2,4])\n",
    "ary03 = np.array([1,2,3,4])\n",
    "print()\n",
    "print('배열의 모든 원소가 같은지를 비교하고 싶다면? - all()')\n",
    "np.all(ary01 == ary02)"
   ]
  },
  {
   "cell_type": "code",
   "execution_count": 66,
   "id": "77485137",
   "metadata": {},
   "outputs": [
    {
     "data": {
      "text/plain": [
       "array([0, 1, 2, 3, 4])"
      ]
     },
     "execution_count": 66,
     "metadata": {},
     "output_type": "execute_result"
    }
   ],
   "source": [
    "ary = np.arange(5)\n",
    "ary * 1"
   ]
  },
  {
   "cell_type": "code",
   "execution_count": 67,
   "id": "89d53602",
   "metadata": {},
   "outputs": [
    {
     "data": {
      "text/plain": [
       "array([[ 0,  1,  2,  3],\n",
       "       [ 4,  5,  6,  7],\n",
       "       [ 8,  9, 10, 11]])"
      ]
     },
     "execution_count": 67,
     "metadata": {},
     "output_type": "execute_result"
    }
   ],
   "source": [
    "ary01 = np.arange(12).reshape(-1,4)\n",
    "ary01"
   ]
  },
  {
   "cell_type": "code",
   "execution_count": 68,
   "id": "06cd0c50",
   "metadata": {},
   "outputs": [
    {
     "data": {
      "text/plain": [
       "array([0, 1, 2])"
      ]
     },
     "execution_count": 68,
     "metadata": {},
     "output_type": "execute_result"
    }
   ],
   "source": [
    "ary02 = np.arange(3)\n",
    "ary02"
   ]
  },
  {
   "cell_type": "code",
   "execution_count": 69,
   "id": "88a09138",
   "metadata": {},
   "outputs": [
    {
     "data": {
      "text/plain": [
       "array([[ 0,  1,  2,  3],\n",
       "       [ 5,  6,  7,  8],\n",
       "       [10, 11, 12, 13]])"
      ]
     },
     "execution_count": 69,
     "metadata": {},
     "output_type": "execute_result"
    }
   ],
   "source": [
    "ary01 + ary02[ : , np.newaxis]"
   ]
  },
  {
   "cell_type": "markdown",
   "id": "778dbfae",
   "metadata": {},
   "source": [
    "#### 차원축소(dimension reduction)\n",
    "- 기술적 통계함수(min, max, sum, mean, median, std, var etc...)\n",
    "- all, any\n",
    "- 인덱스를 리턴하는 차원축소 함수: argmin, argmx"
   ]
  },
  {
   "cell_type": "code",
   "execution_count": 71,
   "id": "0fb4667e",
   "metadata": {},
   "outputs": [
    {
     "name": "stdout",
     "output_type": "stream",
     "text": [
      "data -  [1 2 3 4 5] (5,) 1\n",
      "sum -  15 <class 'numpy.int32'>\n",
      "sum -  15 <class 'numpy.int32'>\n",
      "\n",
      "min -  1 <class 'numpy.int32'>\n",
      "min -  1 <class 'numpy.int32'>\n",
      "\n",
      "max -  5 <class 'numpy.int32'>\n",
      "max -  5 <class 'numpy.int32'>\n",
      "\n",
      "mean -  3.0 <class 'numpy.float64'>\n",
      "mean -  3.0 <class 'numpy.float64'>\n",
      "\n",
      "median -  3.0 <class 'numpy.float64'>\n"
     ]
    }
   ],
   "source": [
    "ary = np.array([1,2,3,4,5])\n",
    "print('data - ', ary, ary.shape, ary.ndim)\n",
    "print('sum - ', np.sum(ary), type(np.sum(ary)))\n",
    "print('sum - ', ary.sum(), type(ary.sum()))\n",
    "print()\n",
    "\n",
    "print('min - ', np.min(ary), type(np.min(ary)))\n",
    "print('min - ', ary.min(), type(ary.min()))\n",
    "print()\n",
    "\n",
    "print('max - ', np.max(ary), type(np.max(ary)))\n",
    "print('max - ', ary.max() , type(ary.max()))\n",
    "print()\n",
    "\n",
    "print('mean - ', np.mean(ary), type(np.mean(ary)))\n",
    "print('mean - ', ary.mean(), type(ary.mean()))\n",
    "print()\n",
    "\n",
    "print('median - ', np.median(ary), type(np.median(ary)))\n",
    "#print('median - ', ary.edian(), type(ary.median())) - error\n"
   ]
  },
  {
   "cell_type": "code",
   "execution_count": 73,
   "id": "81a11950",
   "metadata": {},
   "outputs": [
    {
     "name": "stdout",
     "output_type": "stream",
     "text": [
      "index -  0\n",
      "min_idx -  0 1\n",
      "index -  4 5\n"
     ]
    }
   ],
   "source": [
    "ary = np.array([1,2,3,4,5])\n",
    "ary\n",
    "print('index - ', np.argmin(ary))\n",
    "min_idx = np.argmin(ary)\n",
    "print('min_idx - ', min_idx, ary[min_idx])\n",
    "print('index - ', np.argmax(ary), ary[np.argmax(ary)])"
   ]
  },
  {
   "cell_type": "code",
   "execution_count": 74,
   "id": "13e70fea",
   "metadata": {},
   "outputs": [
    {
     "name": "stdout",
     "output_type": "stream",
     "text": [
      "all - \n",
      "any - \n"
     ]
    }
   ],
   "source": [
    "print('all - ')\n",
    "\n",
    "print('any - ')"
   ]
  },
  {
   "cell_type": "markdown",
   "id": "83d9763f",
   "metadata": {},
   "source": [
    "- 연산의 대상이 2차원 행렬(matrix)이라면?\n",
    "- axis 방향 설정이 중요"
   ]
  },
  {
   "cell_type": "code",
   "execution_count": 76,
   "id": "1e606954",
   "metadata": {},
   "outputs": [
    {
     "name": "stdout",
     "output_type": "stream",
     "text": [
      "type -  <class 'numpy.ndarray'>\n",
      "shape -  (4, 5)\n",
      "dimension -  2\n",
      "dtype -  int32\n",
      "\n",
      "data - \n",
      "[[ 1  2  3  4  5]\n",
      " [ 6  7  8  9 10]\n",
      " [11 12 13 14 15]\n",
      " [16 17 18 19 20]]\n"
     ]
    }
   ],
   "source": [
    "ary = np.arange(1, 21, 1).reshape(4, -1)\n",
    "aryInfo(ary)"
   ]
  },
  {
   "cell_type": "code",
   "execution_count": 78,
   "id": "13e8dc17",
   "metadata": {},
   "outputs": [
    {
     "name": "stdout",
     "output_type": "stream",
     "text": [
      "sum - \n",
      "sum -  210 <class 'numpy.int32'>\n",
      "row sum -  [15 40 65 90] <class 'numpy.ndarray'>\n",
      "col sum -  [34 38 42 46 50] <class 'numpy.ndarray'>\n"
     ]
    }
   ],
   "source": [
    "print('sum - ')\n",
    "print('sum - ', np.sum(ary), type(np.sum(ary)))\n",
    "print('row sum - ', np.sum(ary, axis=1), type(np.sum(ary, axis = 1)))\n",
    "print('col sum - ', np.sum(ary, axis=0), type(np.sum(ary, axis = 0)))"
   ]
  },
  {
   "cell_type": "code",
   "execution_count": null,
   "id": "951fdfd6",
   "metadata": {},
   "outputs": [],
   "source": [
    "print('min, argmin - index, max argmax - index, mean, median')"
   ]
  },
  {
   "cell_type": "code",
   "execution_count": 82,
   "id": "3cd5d5b6",
   "metadata": {},
   "outputs": [
    {
     "name": "stdout",
     "output_type": "stream",
     "text": [
      "[ 1  6 11 16]\n",
      "[1 2 3 4 5]\n"
     ]
    }
   ],
   "source": [
    "print(np.min(ary, axis=1))\n",
    "print(np.min(ary, axis=0))"
   ]
  },
  {
   "cell_type": "code",
   "execution_count": 89,
   "id": "73e15a1f",
   "metadata": {},
   "outputs": [
    {
     "data": {
      "text/plain": [
       "array([[17435, 57596, 81354, 95292, 13609,  8224],\n",
       "       [42359, 16781, 91535, 40234, 57237, 64417],\n",
       "       [43623, 57379, 88568, 91074, 37249, 82627],\n",
       "       [54874, 14044, 70441, 40360, 26004, 19423],\n",
       "       [90039, 26771, 56925, 13692, 83612, 38942]])"
      ]
     },
     "execution_count": 89,
     "metadata": {},
     "output_type": "execute_result"
    }
   ],
   "source": [
    "ary = np.random.randint(0, 100000, (5,6))\n",
    "ary"
   ]
  },
  {
   "cell_type": "code",
   "execution_count": 90,
   "id": "6204cef5",
   "metadata": {},
   "outputs": [
    {
     "name": "stdout",
     "output_type": "stream",
     "text": [
      "전체의 최대값 -  95292\n"
     ]
    }
   ],
   "source": [
    "print('전체의 최대값 - ', np.max(ary))"
   ]
  },
  {
   "cell_type": "code",
   "execution_count": 91,
   "id": "4c18f627",
   "metadata": {},
   "outputs": [
    {
     "name": "stdout",
     "output_type": "stream",
     "text": [
      "전체의 최대값 -  95292\n",
      "행의 합 -  [273510 312563 400520 225146 309981]\n",
      "행의 합 for - hstack -  [273510 312563 400520 225146 309981]\n"
     ]
    }
   ],
   "source": [
    "print('전체의 최대값 - ', np.max(ary))\n",
    "print('행의 합 - ', np.sum(ary, axis = 1))\n",
    "print('행의 합 for - hstack - ', np.hstack([ary[idx].sum() for idx in range(ary.shape[0])]))"
   ]
  },
  {
   "cell_type": "code",
   "execution_count": 92,
   "id": "6eff9168",
   "metadata": {},
   "outputs": [
    {
     "name": "stdout",
     "output_type": "stream",
     "text": [
      "273510\n",
      "312563\n",
      "400520\n",
      "225146\n",
      "309981\n"
     ]
    }
   ],
   "source": [
    "for idx in range(ary.shape[0]):\n",
    "    print(ary[idx].sum())"
   ]
  },
  {
   "cell_type": "code",
   "execution_count": 94,
   "id": "4e521e63",
   "metadata": {},
   "outputs": [
    {
     "name": "stdout",
     "output_type": "stream",
     "text": [
      "각 행의 최대값 - \n",
      "[95292 91535 91074 70441 90039]\n",
      "각 열의 평균 -  [49666.  34514.2 77764.6 56130.4 43542.2 42726.6]\n",
      "[49666.  34514.2 77764.6 56130.4 43542.2 42726.6]\n",
      "각 열의 최소값 - \n",
      "[17435 14044 56925 13692 13609  8224]\n"
     ]
    }
   ],
   "source": [
    "print('각 행의 최대값 - ')\n",
    "print(np.hstack([ary[idx].max() for idx in range(ary.shape[0])]))\n",
    "print('각 열의 평균 - ', np.mean(ary, axis = 0))\n",
    "print(np.hstack([ary[:, idx].mean() for idx in range(ary.shape[1])] ))\n",
    "print('각 열의 최소값 - ')\n",
    "print(np.hstack([ary[:, idx].min() for idx in range(ary.shape[1])] ))"
   ]
  },
  {
   "cell_type": "markdown",
   "id": "2d803038",
   "metadata": {},
   "source": [
    "- 정렬: sort()\n",
    "- ary.sort(): 원본에 대한 변경(inplace = True)\n",
    "- np.sort(ary): 원본에 대한 변경 x (inplace = False)"
   ]
  },
  {
   "cell_type": "code",
   "execution_count": 95,
   "id": "a815ced1",
   "metadata": {},
   "outputs": [
    {
     "data": {
      "text/plain": [
       "array([0, 1, 2, 3, 4, 5, 6, 7, 8, 9])"
      ]
     },
     "execution_count": 95,
     "metadata": {},
     "output_type": "execute_result"
    }
   ],
   "source": [
    "ary = np.arange(10)\n",
    "ary"
   ]
  },
  {
   "cell_type": "code",
   "execution_count": 96,
   "id": "fc526963",
   "metadata": {},
   "outputs": [
    {
     "data": {
      "text/plain": [
       "array([3, 0, 7, 2, 4, 5, 9, 1, 8, 6])"
      ]
     },
     "execution_count": 96,
     "metadata": {},
     "output_type": "execute_result"
    }
   ],
   "source": [
    "np.random.shuffle(ary)\n",
    "ary"
   ]
  },
  {
   "cell_type": "code",
   "execution_count": 97,
   "id": "f9bedf4f",
   "metadata": {},
   "outputs": [
    {
     "data": {
      "text/plain": [
       "array([0, 1, 2, 3, 4, 5, 6, 7, 8, 9])"
      ]
     },
     "execution_count": 97,
     "metadata": {},
     "output_type": "execute_result"
    }
   ],
   "source": [
    "np.sort(ary)"
   ]
  },
  {
   "cell_type": "code",
   "execution_count": 98,
   "id": "205054a3",
   "metadata": {},
   "outputs": [
    {
     "data": {
      "text/plain": [
       "array([3, 0, 7, 2, 4, 5, 9, 1, 8, 6])"
      ]
     },
     "execution_count": 98,
     "metadata": {},
     "output_type": "execute_result"
    }
   ],
   "source": [
    "ary"
   ]
  },
  {
   "cell_type": "code",
   "execution_count": 99,
   "id": "ca35b825",
   "metadata": {},
   "outputs": [],
   "source": [
    "ary.sort()"
   ]
  },
  {
   "cell_type": "code",
   "execution_count": 100,
   "id": "d0e770ca",
   "metadata": {},
   "outputs": [
    {
     "data": {
      "text/plain": [
       "array([0, 1, 2, 3, 4, 5, 6, 7, 8, 9])"
      ]
     },
     "execution_count": 100,
     "metadata": {},
     "output_type": "execute_result"
    }
   ],
   "source": [
    "ary"
   ]
  },
  {
   "cell_type": "code",
   "execution_count": 101,
   "id": "361fcd1d",
   "metadata": {},
   "outputs": [
    {
     "data": {
      "text/plain": [
       "array([1, 2, 4, 9, 8, 5, 6, 0, 3, 7])"
      ]
     },
     "execution_count": 101,
     "metadata": {},
     "output_type": "execute_result"
    }
   ],
   "source": [
    "np.random.shuffle(ary)\n",
    "ary"
   ]
  },
  {
   "cell_type": "code",
   "execution_count": 103,
   "id": "16dce3d3",
   "metadata": {},
   "outputs": [
    {
     "name": "stdout",
     "output_type": "stream",
     "text": [
      "내림차순 - \n"
     ]
    },
    {
     "data": {
      "text/plain": [
       "array([9, 8, 7, 6, 5, 4, 3, 2, 1, 0])"
      ]
     },
     "execution_count": 103,
     "metadata": {},
     "output_type": "execute_result"
    }
   ],
   "source": [
    "print('내림차순 - ')\n",
    "np.sort(ary)[::-1]"
   ]
  },
  {
   "cell_type": "code",
   "execution_count": 105,
   "id": "856ee78c",
   "metadata": {},
   "outputs": [
    {
     "name": "stdout",
     "output_type": "stream",
     "text": [
      "행렬에 대한 정렬 - \n"
     ]
    },
    {
     "data": {
      "text/plain": [
       "array([[10, 11,  9,  9],\n",
       "       [ 4, 16,  8,  7],\n",
       "       [16,  0,  5,  3],\n",
       "       [10,  7,  7,  7]])"
      ]
     },
     "execution_count": 105,
     "metadata": {},
     "output_type": "execute_result"
    }
   ],
   "source": [
    "print('행렬에 대한 정렬 - ')\n",
    "ary = np.random.randint(0, 17, (4,4))\n",
    "ary"
   ]
  },
  {
   "cell_type": "code",
   "execution_count": 106,
   "id": "7cdc9cbd",
   "metadata": {},
   "outputs": [
    {
     "name": "stdout",
     "output_type": "stream",
     "text": [
      "행 정렬 axis = 1\n",
      "[[ 4  0  5  3]\n",
      " [10  7  7  7]\n",
      " [10 11  8  7]\n",
      " [16 16  9  9]]\n"
     ]
    }
   ],
   "source": [
    "print('행 정렬 axis = 1')\n",
    "print(np.sort(ary, axis = 0))"
   ]
  },
  {
   "cell_type": "markdown",
   "id": "a862aaba",
   "metadata": {},
   "source": [
    "- 만약 정렬된 인덱스를 필요로 한다면?\n",
    "- np.argsort()"
   ]
  },
  {
   "cell_type": "code",
   "execution_count": 107,
   "id": "3c34afb5",
   "metadata": {},
   "outputs": [
    {
     "data": {
      "text/plain": [
       "array([4, 3, 5, 7])"
      ]
     },
     "execution_count": 107,
     "metadata": {},
     "output_type": "execute_result"
    }
   ],
   "source": [
    "ary = np.array([4,3,5,7])\n",
    "ary"
   ]
  },
  {
   "cell_type": "code",
   "execution_count": 108,
   "id": "81e74402",
   "metadata": {},
   "outputs": [
    {
     "data": {
      "text/plain": [
       "array([1, 0, 2, 3], dtype=int64)"
      ]
     },
     "execution_count": 108,
     "metadata": {},
     "output_type": "execute_result"
    }
   ],
   "source": [
    "ary_idx = np.argsort(ary)\n",
    "ary_idx"
   ]
  },
  {
   "cell_type": "code",
   "execution_count": 109,
   "id": "21a54d95",
   "metadata": {},
   "outputs": [
    {
     "data": {
      "text/plain": [
       "array([7, 5, 4, 3])"
      ]
     },
     "execution_count": 109,
     "metadata": {},
     "output_type": "execute_result"
    }
   ],
   "source": [
    "ary[ary_idx][::-1]"
   ]
  },
  {
   "cell_type": "code",
   "execution_count": 110,
   "id": "54bd8442",
   "metadata": {},
   "outputs": [
    {
     "data": {
      "text/plain": [
       "array([[15, 10, 10, 16],\n",
       "       [15,  8,  6,  2],\n",
       "       [ 1,  6, 11,  2],\n",
       "       [ 6, 11, 11, 12]])"
      ]
     },
     "execution_count": 110,
     "metadata": {},
     "output_type": "execute_result"
    }
   ],
   "source": [
    "ary = np.random.randint(1,17,(4,4))\n",
    "ary"
   ]
  },
  {
   "cell_type": "code",
   "execution_count": 113,
   "id": "2a99df08",
   "metadata": {},
   "outputs": [
    {
     "data": {
      "text/plain": [
       "array([1, 2, 0, 3], dtype=int64)"
      ]
     },
     "execution_count": 113,
     "metadata": {},
     "output_type": "execute_result"
    }
   ],
   "source": [
    "ary[0].argsort()"
   ]
  },
  {
   "cell_type": "markdown",
   "id": "5d8b75ed",
   "metadata": {},
   "source": [
    "- 연결보다는 행추가 컬럼추가 하는 방법\n",
    "- np.concatenate()"
   ]
  },
  {
   "cell_type": "code",
   "execution_count": 114,
   "id": "4de4df82",
   "metadata": {},
   "outputs": [
    {
     "data": {
      "text/plain": [
       "array([[1, 2, 3],\n",
       "       [4, 5, 6]])"
      ]
     },
     "execution_count": 114,
     "metadata": {},
     "output_type": "execute_result"
    }
   ],
   "source": [
    "ary = np.array( [[1,2,3],[4,5,6]])\n",
    "ary"
   ]
  },
  {
   "cell_type": "code",
   "execution_count": 119,
   "id": "853a0c7a",
   "metadata": {},
   "outputs": [
    {
     "name": "stdout",
     "output_type": "stream",
     "text": [
      "행 추가 - \n"
     ]
    },
    {
     "data": {
      "text/plain": [
       "array([[1, 2, 3],\n",
       "       [4, 5, 6],\n",
       "       [7, 8, 9]])"
      ]
     },
     "execution_count": 119,
     "metadata": {},
     "output_type": "execute_result"
    }
   ],
   "source": [
    "print('행 추가 - ')\n",
    "new_row = np.array([7,8,9])\n",
    "np.concatenate((ary, new_row[np.newaxis, : ]), axis=0)\n",
    "np.concatenate((ary, new_row.reshape(1,3)), axis=0 )"
   ]
  },
  {
   "cell_type": "code",
   "execution_count": null,
   "id": "95e50053",
   "metadata": {},
   "outputs": [],
   "source": []
  },
  {
   "cell_type": "code",
   "execution_count": 121,
   "id": "d3508ac3",
   "metadata": {},
   "outputs": [
    {
     "name": "stdout",
     "output_type": "stream",
     "text": [
      "문제 - 200개의 표준정규분포 샘플을 만들어서 내림차순으로 상위 5%까지의 결과를 출력\n",
      "type -  <class 'numpy.ndarray'>\n",
      "shape -  (200,)\n",
      "dimension -  1\n",
      "dtype -  float64\n",
      "\n",
      "data - \n",
      "[ 4.72920074e-02 -6.11269712e-01  1.27674531e+00 -1.38717058e+00\n",
      " -5.37424018e-01  1.09474586e+00  1.44334839e-01  5.19268495e-01\n",
      "  2.42555724e+00 -2.16341451e-01 -2.96549923e-01 -1.02931682e-01\n",
      " -1.95840561e+00  7.86412878e-01  2.18394152e-01 -1.09626163e-01\n",
      " -8.13178283e-02  9.88641218e-01 -8.96755390e-01  9.91103922e-01\n",
      "  1.44888382e+00  2.39357801e+00  1.40863693e+00 -9.40024199e-01\n",
      "  2.59043436e+00  3.64690873e-01 -7.58113516e-01 -2.89778033e-01\n",
      "  5.72912011e-01 -7.68974643e-01  8.43214489e-01 -1.07416815e+00\n",
      " -4.58010364e-01  1.04004952e+00 -5.09567026e-01 -1.61622488e+00\n",
      " -6.12138187e-02 -5.31910787e-01 -5.26547365e-02  1.15474698e+00\n",
      " -3.44593982e-03 -1.09849887e+00  1.10428859e+00  1.09796001e+00\n",
      " -7.51511374e-01  1.04664547e-01 -7.74177047e-01  6.00585733e-01\n",
      "  3.02381440e-01  9.48541351e-01 -9.90307549e-02 -1.79533891e+00\n",
      " -1.63406148e-01 -2.46641692e+00  5.98522792e-01 -4.00221908e-01\n",
      " -1.03159833e+00  2.75673880e-01 -1.63780416e+00  1.33850978e+00\n",
      "  1.25119377e+00  8.54562641e-02 -1.31188911e-01 -8.37944471e-01\n",
      "  1.26643193e+00 -1.14148855e+00 -8.85068657e-01 -7.26435409e-01\n",
      " -1.56993583e+00  1.06355368e+00 -2.27644373e-01  1.07505010e+00\n",
      "  1.73288203e+00  1.09668737e+00 -8.70724123e-02  4.17893437e-01\n",
      " -6.03427941e-01 -4.77847732e-01  1.95767994e+00 -1.04015632e+00\n",
      "  2.31568538e-01  1.68054999e-01  2.21727161e+00 -3.51015159e-01\n",
      "  4.82259438e-01 -1.14761882e+00 -8.79430206e-01 -4.23545935e-01\n",
      " -8.44637375e-01  1.47145144e+00  1.93899672e+00 -6.05853127e-01\n",
      " -1.63934257e+00  4.69094090e-01 -1.54558815e+00 -1.84880523e+00\n",
      "  7.67453123e-01 -4.40795611e-01 -3.37265042e-01 -9.85429055e-01\n",
      " -1.15953027e+00 -2.11881046e+00  1.44308038e+00  1.46711640e+00\n",
      " -1.41896286e-01 -5.50305660e-01  4.39576024e-01  5.49878026e-01\n",
      "  1.16022265e+00  1.18108607e+00 -7.44763256e-01 -1.70152374e+00\n",
      " -3.10251832e-01  1.15330903e+00 -1.81826609e+00 -8.53547188e-01\n",
      "  9.66105229e-01 -1.21550937e+00  5.93676877e-01 -3.57691776e-01\n",
      " -6.59567315e-01  5.89326486e-01 -2.94464689e-01 -9.76139846e-01\n",
      "  2.82065111e-01  1.68052440e-01 -2.06479892e+00 -4.09861849e-01\n",
      " -9.37367304e-01  5.83939521e-01 -1.55385689e+00  1.75097834e-01\n",
      "  1.80146902e-01  1.53814905e+00 -2.96933042e-01  7.90440188e-02\n",
      " -3.98984196e-01 -6.38882127e-01 -3.69718296e-02  2.61135112e-01\n",
      " -1.06951913e+00  1.08840740e+00  3.86632845e-01  7.31428597e-01\n",
      " -4.26399724e-01  5.56750411e-01  1.05008175e+00  1.93877125e+00\n",
      "  6.62517291e-01  1.13362004e+00  1.37769640e+00 -1.73818145e-01\n",
      " -1.39613196e+00 -1.30111717e+00  3.23465587e-01 -1.53554539e+00\n",
      " -7.34809924e-01  8.63422938e-01 -1.74484821e-01 -5.14210908e-01\n",
      " -6.70678930e-01  7.64148231e-02  1.75131805e+00  5.14467017e-01\n",
      "  7.62852956e-01 -2.93611846e-01  1.67853187e+00  7.63062786e-01\n",
      " -3.07776557e-01 -5.55558389e-01 -6.78956969e-01  8.86323388e-01\n",
      " -3.64628082e+00 -9.87005986e-01  2.44157698e-01  5.57972151e-01\n",
      "  6.07005330e-01  1.60536185e+00 -1.04409102e+00 -3.60126192e-01\n",
      "  3.20239361e-01  1.16609026e+00 -1.20904691e+00 -1.98266990e+00\n",
      " -7.47453921e-01  1.27006111e+00 -8.90608406e-01 -1.30119814e+00\n",
      "  4.94061192e-01 -1.03865833e+00 -1.78280324e+00 -4.67431805e-01\n",
      " -1.43699175e-01 -1.46629857e+00 -2.88857563e-02  6.06494706e-01\n",
      " -1.33280404e+00 -1.73729284e-01  5.79813714e-01 -1.86925045e-01]\n"
     ]
    }
   ],
   "source": [
    "print('문제 - 200개의 표준정규분포 샘플을 만들어서 내림차순으로 상위 5%까지의 결과를 출력')\n",
    "ary = np.random.randn(200)\n",
    "aryInfo(ary)"
   ]
  },
  {
   "cell_type": "code",
   "execution_count": 123,
   "id": "b12b1023",
   "metadata": {},
   "outputs": [
    {
     "data": {
      "text/plain": [
       "array([2.59043436, 2.42555724, 2.39357801, 2.21727161, 1.95767994,\n",
       "       1.93899672, 1.93877125, 1.75131805, 1.73288203, 1.67853187])"
      ]
     },
     "execution_count": 123,
     "metadata": {},
     "output_type": "execute_result"
    }
   ],
   "source": [
    "answer = np.sort(ary)[::-1][ : int(0.05*len(ary))]\n",
    "answer"
   ]
  },
  {
   "cell_type": "code",
   "execution_count": 5,
   "id": "63e5fa81",
   "metadata": {},
   "outputs": [
    {
     "name": "stdout",
     "output_type": "stream",
     "text": [
      "type -  <class 'numpy.ndarray'>\n",
      "shape -  (3, 4)\n",
      "dimension -  2\n",
      "dtype -  int32\n",
      "\n",
      "data - \n",
      "[[  1   2   3   4]\n",
      " [100  89  90  79]\n",
      " [ 60  70  80  99]]\n",
      "\n",
      "두 번째 행을 국어점수로 생각하고 국어 점수를 기준으로 열을 정렬 \n",
      "[[  4   2   3   1]\n",
      " [ 79  89  90 100]\n",
      " [ 99  70  80  60]]\n",
      "\n",
      "[0 2 1 3]\n"
     ]
    }
   ],
   "source": [
    "ary = np.array([[1,2,3,4],[100,89,90,79],[60,70,80,99]])\n",
    "aryInfo(ary)\n",
    "print()\n",
    "\n",
    "print('두 번째 행을 국어점수로 생각하고 국어 점수를 기준으로 열을 정렬 ')\n",
    "# case1\n",
    "answer = ary[ : , ary[1].argsort()]\n",
    "print(answer)\n",
    "print()\n",
    "\n",
    "# case2\n",
    "answer = np.argsort(ary)[1][::-1]\n",
    "print(answer)"
   ]
  },
  {
   "cell_type": "code",
   "execution_count": null,
   "id": "fad09378",
   "metadata": {},
   "outputs": [],
   "source": []
  }
 ],
 "metadata": {
  "kernelspec": {
   "display_name": "Python 3 (ipykernel)",
   "language": "python",
   "name": "python3"
  },
  "language_info": {
   "codemirror_mode": {
    "name": "ipython",
    "version": 3
   },
   "file_extension": ".py",
   "mimetype": "text/x-python",
   "name": "python",
   "nbconvert_exporter": "python",
   "pygments_lexer": "ipython3",
   "version": "3.9.12"
  }
 },
 "nbformat": 4,
 "nbformat_minor": 5
}
